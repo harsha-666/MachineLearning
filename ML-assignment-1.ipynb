{
 "cells": [
  {
   "cell_type": "code",
   "execution_count": 5,
   "id": "5846bf36-b615-4df7-a5f1-43dc1ab8368a",
   "metadata": {},
   "outputs": [
    {
     "name": "stdout",
     "output_type": "stream",
     "text": [
      "2\n"
     ]
    }
   ],
   "source": [
    "#q1 odd number\n",
    "list = [2,7,4,1,3,6]\n",
    "length = 0\n",
    "for x in list:\n",
    "        length +=1\n",
    "def pair_counter():\n",
    "    count_of_pairs = 0\n",
    "    for i in range(length):\n",
    "        for j in range(i):\n",
    "            if list[i] + list[j] == 10:\n",
    "                count_of_pairs +=1\n",
    "    return count_of_pairs\n",
    "\n",
    "count = pair_counter()\n",
    "print(count)\n"
   ]
  },
  {
   "cell_type": "code",
   "execution_count": 23,
   "id": "42f6a487-cc41-4f11-b681-ac1f3692d6a4",
   "metadata": {},
   "outputs": [
    {
     "name": "stdin",
     "output_type": "stream",
     "text": [
      "Enter number of elements:  3\n"
     ]
    },
    {
     "name": "stdout",
     "output_type": "stream",
     "text": [
      "Enter the elements:\n"
     ]
    },
    {
     "name": "stdin",
     "output_type": "stream",
     "text": [
      " 5\n",
      " 7\n",
      " 9\n"
     ]
    },
    {
     "name": "stdout",
     "output_type": "stream",
     "text": [
      "Range is: 4.0\n"
     ]
    }
   ],
   "source": [
    "#q2 odd number\n",
    "length = int(input(\"Enter number of elements: \"))\n",
    "def range_calculator():\n",
    "    if length < 3:\n",
    "        return \"Range determination not possible\"\n",
    "    else:\n",
    "        listt = [None] * length\n",
    "        print(\"Enter the elements:\")\n",
    "        for i in range(length):\n",
    "            num = float(input())\n",
    "            listt[i] = num\n",
    "        \n",
    "        minn = listt[0]\n",
    "        maxx = listt[0]\n",
    "    \n",
    "        for i in range(1, length):\n",
    "            if listt[i] < minn:\n",
    "                minn = listt[i]\n",
    "            if listt[i] > maxx:\n",
    "                maxx = listt[i]\n",
    "        rangee = maxx - minn\n",
    "        return rangee\n",
    "\n",
    "answer = range_calculator()\n",
    "print(\"Range is:\",answer)"
   ]
  },
  {
   "cell_type": "code",
   "execution_count": 12,
   "id": "56f4da38-5eee-42ae-b22c-7da9fd8e76ea",
   "metadata": {},
   "outputs": [
    {
     "name": "stdin",
     "output_type": "stream",
     "text": [
      "Enter order of matrix:  2\n",
      "Enter element [0][0]:  1\n",
      "Enter element [0][1]:  2\n",
      "Enter element [1][0]:  3\n",
      "Enter element [1][1]:  4\n",
      "Enter power of matrix:  2\n"
     ]
    },
    {
     "name": "stdout",
     "output_type": "stream",
     "text": [
      "[7.0, 10.0]\n",
      "[15.0, 22.0]\n"
     ]
    }
   ],
   "source": [
    "#q3 odd number\n",
    "def mat_multiplier(mata, matb):\n",
    "    size = len(mata)\n",
    "    mul = [[0] * size for x in range(size)]\n",
    "\n",
    "    for i in range(size):\n",
    "        for j in range(size):\n",
    "            for k in range(size):\n",
    "                mul[i][j] += mata[i][k] * matb[k][j]\n",
    "    return mul\n",
    "\n",
    "\n",
    "def power_calculator(mat, x):\n",
    "    size = len(mat)\n",
    "    res = [[1 if i == j else 0 for j in range(size)] for i in range(size)]\n",
    "    temp = mat\n",
    "    while x > 0:\n",
    "        if x % 2 == 1:\n",
    "            res = mat_multiplier(res, temp)\n",
    "        temp = mat_multiplier(temp, temp)\n",
    "        x //= 2\n",
    "    return res\n",
    "\n",
    "n = int(input(\"Enter order of matrix: \"))\n",
    "mat = []\n",
    "\n",
    "for i in range(n):\n",
    "    row = []\n",
    "    for j in range(n):\n",
    "        ele = float(input(f\"Enter element [{i}][{j}]: \"))\n",
    "        row.append(ele)\n",
    "    mat.append(row)\n",
    "\n",
    "x = int(input(\"Enter power of matrix: \"))\n",
    "res = power_calculator(mat, x)\n",
    "\n",
    "for row in res:\n",
    "    print(row)\n"
   ]
  },
  {
   "cell_type": "code",
   "execution_count": 2,
   "id": "8a584c4e-91a6-4bc8-85fb-d8d73e35a13e",
   "metadata": {},
   "outputs": [
    {
     "name": "stdin",
     "output_type": "stream",
     "text": [
      "Enter a word:  hippo\n"
     ]
    },
    {
     "name": "stdout",
     "output_type": "stream",
     "text": [
      "Highest occurring letter is p and it occurred 2 times.\n"
     ]
    }
   ],
   "source": [
    "def char_counter(charlist):\n",
    "    char_count = {}\n",
    "    for l in charlist:\n",
    "        if l in char_count:\n",
    "            char_count[l] += 1\n",
    "        else:\n",
    "            char_count[l] = 1\n",
    "\n",
    "    max_letter = None\n",
    "    max_number = 0\n",
    "    for l in char_count:\n",
    "        if char_count[l] > max_number:\n",
    "            max_number = char_count[l]\n",
    "            max_letter = l\n",
    "    return max_letter, max_number\n",
    "\n",
    "charlist = input(\"Enter a word: \")\n",
    "char, count = char_counter(charlist)\n",
    "\n",
    "print(\"Highest occurring letter is\", char, \"and it occurred\", count, \"times.\")\n"
   ]
  },
  {
   "cell_type": "code",
   "execution_count": null,
   "id": "d752c7bd-57e8-49d1-8009-2f3d056d6091",
   "metadata": {},
   "outputs": [],
   "source": [
    "\"\"\"\n",
    "def matrix_inputter(rows, columns):\n",
    "    if rows!=columns:\n",
    "        return None\n",
    "    else:\n",
    "        mat = []\n",
    "        for i in range(rows):\n",
    "            r = [None] * columns\n",
    "            for j in range(columns):\n",
    "                row[j] = int(input())\n",
    "            mat_len = 0\n",
    "            for x in range(mat):\n",
    "                mat_len += 1\n",
    "            temp_mat = [0] * (mat_len)+1\n",
    "            for k in range(mat_len):\n",
    "                temp_mat[k] = mat[k]\n",
    "                temp_mat[mat_len] = row\n",
    "                mat = temp_mat\n",
    "        return mat\n",
    "def matrix_multiplier(mata, matb):\n",
    "    matalen = 0\n",
    "    mult\n",
    "    for i in range(mata):\n",
    "        matalen+=1\n",
    "    for i in range (matalen):\n",
    "        r = [None]*matalen\n",
    "        mult.append(row)\n",
    "    for i in range(matalen):\n",
    "        for j in range(matalen):\n",
    "            for k in range(matalen):\n",
    "                mult[i][j] = mata[i][k] + matb[k][j]\n",
    "    return mult                \n",
    "\n",
    "def power_calculator(mata,x):\n",
    "    matb = mata\n",
    "    matalen = len(mata)\n",
    "    \n",
    "\n",
    "m = int(input(\"Enter the power of the matrix: \"))\n",
    "rows = int(input(\"Enter the number of rows of the matrix: \"))\n",
    "columns = int(input(\"Enter the number of columns of the matrix: \"))\n",
    "\n",
    "X = matrix_inputter(rows, columns)\n",
    "\n",
    "if X is None:\n",
    "    print(\"Matrix multiplication is not possible\")\n",
    "else:\n",
    "    final_result = power_calculator(X, m)\n",
    "    print(f\"The matrix raised to the power {m} is:\")\n",
    "    for row in final_result:\n",
    "        print(row)\n",
    "\"\"\""
   ]
  }
 ],
 "metadata": {
  "kernelspec": {
   "display_name": "Python 3 (ipykernel)",
   "language": "python",
   "name": "python3"
  },
  "language_info": {
   "codemirror_mode": {
    "name": "ipython",
    "version": 3
   },
   "file_extension": ".py",
   "mimetype": "text/x-python",
   "name": "python",
   "nbconvert_exporter": "python",
   "pygments_lexer": "ipython3",
   "version": "3.12.4"
  }
 },
 "nbformat": 4,
 "nbformat_minor": 5
}
